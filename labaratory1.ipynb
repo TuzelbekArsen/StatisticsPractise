{
 "nbformat": 4,
 "nbformat_minor": 2,
 "metadata": {
  "language_info": {
   "name": "python",
   "codemirror_mode": {
    "name": "ipython",
    "version": 3
   },
   "version": "3.7.6-final"
  },
  "orig_nbformat": 2,
  "file_extension": ".py",
  "mimetype": "text/x-python",
  "name": "python",
  "npconvert_exporter": "python",
  "pygments_lexer": "ipython3",
  "version": 3,
  "kernelspec": {
   "name": "python37664bit7a956b0e2bca4dfdbbfe212f24bc4f11",
   "display_name": "Python 3.7.6 64-bit"
  }
 },
 "cells": [
  {
   "cell_type": "code",
   "execution_count": 27,
   "metadata": {},
   "outputs": [
    {
     "output_type": "execute_result",
     "data": {
      "text/plain": "    sleep\n0     3.5\n1     4.2\n2     4.5\n3     4.8\n4     5.0\n5     5.0\n6     5.0\n7     5.5\n8     5.5\n9     5.5\n10    6.0\n11    6.0\n12    6.0\n13    6.0\n14    6.5\n15    6.5\n16    6.5\n17    6.5\n18    6.5\n19    7.5\n20    7.5\n21    7.5\n22    8.0\n23    8.0\n24    8.5\n25    8.5\n26    8.5\n27    9.0\n28    9.0\n29    6.5",
      "text/html": "<div>\n<style scoped>\n    .dataframe tbody tr th:only-of-type {\n        vertical-align: middle;\n    }\n\n    .dataframe tbody tr th {\n        vertical-align: top;\n    }\n\n    .dataframe thead th {\n        text-align: right;\n    }\n</style>\n<table border=\"1\" class=\"dataframe\">\n  <thead>\n    <tr style=\"text-align: right;\">\n      <th></th>\n      <th>sleep</th>\n    </tr>\n  </thead>\n  <tbody>\n    <tr>\n      <th>0</th>\n      <td>3.5</td>\n    </tr>\n    <tr>\n      <th>1</th>\n      <td>4.2</td>\n    </tr>\n    <tr>\n      <th>2</th>\n      <td>4.5</td>\n    </tr>\n    <tr>\n      <th>3</th>\n      <td>4.8</td>\n    </tr>\n    <tr>\n      <th>4</th>\n      <td>5.0</td>\n    </tr>\n    <tr>\n      <th>5</th>\n      <td>5.0</td>\n    </tr>\n    <tr>\n      <th>6</th>\n      <td>5.0</td>\n    </tr>\n    <tr>\n      <th>7</th>\n      <td>5.5</td>\n    </tr>\n    <tr>\n      <th>8</th>\n      <td>5.5</td>\n    </tr>\n    <tr>\n      <th>9</th>\n      <td>5.5</td>\n    </tr>\n    <tr>\n      <th>10</th>\n      <td>6.0</td>\n    </tr>\n    <tr>\n      <th>11</th>\n      <td>6.0</td>\n    </tr>\n    <tr>\n      <th>12</th>\n      <td>6.0</td>\n    </tr>\n    <tr>\n      <th>13</th>\n      <td>6.0</td>\n    </tr>\n    <tr>\n      <th>14</th>\n      <td>6.5</td>\n    </tr>\n    <tr>\n      <th>15</th>\n      <td>6.5</td>\n    </tr>\n    <tr>\n      <th>16</th>\n      <td>6.5</td>\n    </tr>\n    <tr>\n      <th>17</th>\n      <td>6.5</td>\n    </tr>\n    <tr>\n      <th>18</th>\n      <td>6.5</td>\n    </tr>\n    <tr>\n      <th>19</th>\n      <td>7.5</td>\n    </tr>\n    <tr>\n      <th>20</th>\n      <td>7.5</td>\n    </tr>\n    <tr>\n      <th>21</th>\n      <td>7.5</td>\n    </tr>\n    <tr>\n      <th>22</th>\n      <td>8.0</td>\n    </tr>\n    <tr>\n      <th>23</th>\n      <td>8.0</td>\n    </tr>\n    <tr>\n      <th>24</th>\n      <td>8.5</td>\n    </tr>\n    <tr>\n      <th>25</th>\n      <td>8.5</td>\n    </tr>\n    <tr>\n      <th>26</th>\n      <td>8.5</td>\n    </tr>\n    <tr>\n      <th>27</th>\n      <td>9.0</td>\n    </tr>\n    <tr>\n      <th>28</th>\n      <td>9.0</td>\n    </tr>\n    <tr>\n      <th>29</th>\n      <td>6.5</td>\n    </tr>\n  </tbody>\n</table>\n</div>"
     },
     "metadata": {},
     "execution_count": 27
    }
   ],
   "source": [
    "import pandas as pd\n",
    "import numpy as np\n",
    "data = pd.read_csv('sleep.csv')\n",
    "from scipy import stats\n",
    "data"
   ]
  },
  {
   "cell_type": "code",
   "execution_count": 28,
   "metadata": {},
   "outputs": [
    {
     "output_type": "execute_result",
     "data": {
      "text/plain": "sleep    6.45\ndtype: float64"
     },
     "metadata": {},
     "execution_count": 28
    }
   ],
   "source": [
    "data.mean()"
   ]
  },
  {
   "cell_type": "code",
   "execution_count": 29,
   "metadata": {},
   "outputs": [
    {
     "output_type": "execute_result",
     "data": {
      "text/plain": "Ttest_1sampResult(statistic=-2.030134731593884, pvalue=0.051604476624949255)"
     },
     "metadata": {},
     "execution_count": 29
    }
   ],
   "source": [
    "stats.ttest_1samp(data['sleep'], 7)"
   ]
  },
  {
   "cell_type": "code",
   "execution_count": null,
   "metadata": {},
   "outputs": [],
   "source": [
    "   def mean_confidence_interval(data, confidence=0.90):\n",
    "    a = 1.0 * np.array(data)\n",
    "    n = len(a)\n",
    "    p, se = np.mean(a), stats.sem(a)\n",
    "    q = se * stats.t.ppf((1 + confidence) / 2., n-1)\n",
    "    return m, p-q, p+q"
   ]
  },
  {
   "cell_type": "code",
   "execution_count": 31,
   "metadata": {},
   "outputs": [
    {
     "output_type": "execute_result",
     "data": {
      "text/plain": "(6.45, array([5.98967594]), array([6.91032406]))"
     },
     "metadata": {},
     "execution_count": 31
    }
   ],
   "source": [
    "mean_confidence_interval(data)"
   ]
  },
  {
   "cell_type": "code",
   "execution_count": null,
   "metadata": {},
   "outputs": [],
   "source": [
    "Opinion: \n",
    "We connect to the pandas library to read data from the csv file and read with read_csv function.\n",
    "Then we calculate the average value from data using mean. \n",
    "Then we calculate the T-test for the average value of one group of points.\n",
    "This is a hypothesis test that the mean of a sample for the population."
   ]
  }
 ]
}