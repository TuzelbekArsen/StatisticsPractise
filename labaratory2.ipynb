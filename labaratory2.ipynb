{
 "nbformat": 4,
 "nbformat_minor": 2,
 "metadata": {
  "language_info": {
   "name": "python",
   "codemirror_mode": {
    "name": "ipython",
    "version": 3
   },
   "version": "3.7.6-final"
  },
  "orig_nbformat": 2,
  "file_extension": ".py",
  "mimetype": "text/x-python",
  "name": "python",
  "npconvert_exporter": "python",
  "pygments_lexer": "ipython3",
  "version": 3,
  "kernelspec": {
   "name": "python37664bit7a956b0e2bca4dfdbbfe212f24bc4f11",
   "display_name": "Python 3.7.6 64-bit"
  }
 },
 "cells": [
  {
   "cell_type": "code",
   "execution_count": 1,
   "metadata": {},
   "outputs": [
    {
     "output_type": "execute_result",
     "data": {
      "text/plain": "  Method  Grade\n0      c     80\n1      c     93\n2      c     83\n3      c     89\n4      c     98\n5      t    100\n6      t    103\n7      t    104\n8      t     99\n9      t    102",
      "text/html": "<div>\n<style scoped>\n    .dataframe tbody tr th:only-of-type {\n        vertical-align: middle;\n    }\n\n    .dataframe tbody tr th {\n        vertical-align: top;\n    }\n\n    .dataframe thead th {\n        text-align: right;\n    }\n</style>\n<table border=\"1\" class=\"dataframe\">\n  <thead>\n    <tr style=\"text-align: right;\">\n      <th></th>\n      <th>Method</th>\n      <th>Grade</th>\n    </tr>\n  </thead>\n  <tbody>\n    <tr>\n      <th>0</th>\n      <td>c</td>\n      <td>80</td>\n    </tr>\n    <tr>\n      <th>1</th>\n      <td>c</td>\n      <td>93</td>\n    </tr>\n    <tr>\n      <th>2</th>\n      <td>c</td>\n      <td>83</td>\n    </tr>\n    <tr>\n      <th>3</th>\n      <td>c</td>\n      <td>89</td>\n    </tr>\n    <tr>\n      <th>4</th>\n      <td>c</td>\n      <td>98</td>\n    </tr>\n    <tr>\n      <th>5</th>\n      <td>t</td>\n      <td>100</td>\n    </tr>\n    <tr>\n      <th>6</th>\n      <td>t</td>\n      <td>103</td>\n    </tr>\n    <tr>\n      <th>7</th>\n      <td>t</td>\n      <td>104</td>\n    </tr>\n    <tr>\n      <th>8</th>\n      <td>t</td>\n      <td>99</td>\n    </tr>\n    <tr>\n      <th>9</th>\n      <td>t</td>\n      <td>102</td>\n    </tr>\n  </tbody>\n</table>\n</div>"
     },
     "metadata": {},
     "execution_count": 1
    }
   ],
   "source": [
    "import pandas as pd\n",
    "lab2=pd.read_csv('reading.csv')\n",
    "lab2"
   ]
  },
  {
   "cell_type": "code",
   "execution_count": 2,
   "metadata": {},
   "outputs": [],
   "source": [
    "Standart_Method=lab2[lab2.Method == \"c\"]\n",
    "New_Method=lab2[lab2.Method == \"t\"]"
   ]
  },
  {
   "cell_type": "code",
   "execution_count": 3,
   "metadata": {},
   "outputs": [
    {
     "output_type": "execute_result",
     "data": {
      "text/plain": "  Method  Grade\n5      t    100\n6      t    103\n7      t    104\n8      t     99\n9      t    102",
      "text/html": "<div>\n<style scoped>\n    .dataframe tbody tr th:only-of-type {\n        vertical-align: middle;\n    }\n\n    .dataframe tbody tr th {\n        vertical-align: top;\n    }\n\n    .dataframe thead th {\n        text-align: right;\n    }\n</style>\n<table border=\"1\" class=\"dataframe\">\n  <thead>\n    <tr style=\"text-align: right;\">\n      <th></th>\n      <th>Method</th>\n      <th>Grade</th>\n    </tr>\n  </thead>\n  <tbody>\n    <tr>\n      <th>5</th>\n      <td>t</td>\n      <td>100</td>\n    </tr>\n    <tr>\n      <th>6</th>\n      <td>t</td>\n      <td>103</td>\n    </tr>\n    <tr>\n      <th>7</th>\n      <td>t</td>\n      <td>104</td>\n    </tr>\n    <tr>\n      <th>8</th>\n      <td>t</td>\n      <td>99</td>\n    </tr>\n    <tr>\n      <th>9</th>\n      <td>t</td>\n      <td>102</td>\n    </tr>\n  </tbody>\n</table>\n</div>"
     },
     "metadata": {},
     "execution_count": 3
    }
   ],
   "source": [
    "New_Method"
   ]
  },
  {
   "cell_type": "code",
   "execution_count": 4,
   "metadata": {},
   "outputs": [
    {
     "output_type": "execute_result",
     "data": {
      "text/plain": "  Method  Grade\n0      c     80\n1      c     93\n2      c     83\n3      c     89\n4      c     98",
      "text/html": "<div>\n<style scoped>\n    .dataframe tbody tr th:only-of-type {\n        vertical-align: middle;\n    }\n\n    .dataframe tbody tr th {\n        vertical-align: top;\n    }\n\n    .dataframe thead th {\n        text-align: right;\n    }\n</style>\n<table border=\"1\" class=\"dataframe\">\n  <thead>\n    <tr style=\"text-align: right;\">\n      <th></th>\n      <th>Method</th>\n      <th>Grade</th>\n    </tr>\n  </thead>\n  <tbody>\n    <tr>\n      <th>0</th>\n      <td>c</td>\n      <td>80</td>\n    </tr>\n    <tr>\n      <th>1</th>\n      <td>c</td>\n      <td>93</td>\n    </tr>\n    <tr>\n      <th>2</th>\n      <td>c</td>\n      <td>83</td>\n    </tr>\n    <tr>\n      <th>3</th>\n      <td>c</td>\n      <td>89</td>\n    </tr>\n    <tr>\n      <th>4</th>\n      <td>c</td>\n      <td>98</td>\n    </tr>\n  </tbody>\n</table>\n</div>"
     },
     "metadata": {},
     "execution_count": 4
    }
   ],
   "source": [
    "Standart_Method"
   ]
  },
  {
   "cell_type": "code",
   "execution_count": null,
   "metadata": {},
   "outputs": [],
   "source": [
    "from scipy import stats"
   ]
  },
  {
   "cell_type": "code",
   "execution_count": 8,
   "metadata": {},
   "outputs": [
    {
     "output_type": "execute_result",
     "data": {
      "text/plain": "Ttest_indResult(statistic=3.830161731427132, pvalue=0.005016762443669757)"
     },
     "metadata": {},
     "execution_count": 8
    }
   ],
   "source": [
    "stats.ttest_ind(New_Method.Grade,Standart_Method.Grade)"
   ]
  },
  {
   "cell_type": "code",
   "execution_count": null,
   "metadata": {},
   "outputs": [],
   "source": [
    "In this lab work we also connect with pandas library and read csv file.\n",
    "After that, we call grades: t is new method and s is standart method and demonstrate each table.\n",
    "And finally we find when this two test make difference"
   ]
  }
 ]
}